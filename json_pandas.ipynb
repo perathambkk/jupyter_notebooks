{
 "cells": [
  {
   "cell_type": "code",
   "execution_count": 1,
   "id": "89770703-55db-4085-8b9f-4ce05f1f5f2f",
   "metadata": {},
   "outputs": [],
   "source": [
    "import json"
   ]
  },
  {
   "cell_type": "code",
   "execution_count": 2,
   "id": "620406e2-eb19-4ad5-90cd-94325147fcf0",
   "metadata": {},
   "outputs": [],
   "source": [
    "jstring  = \"\"\"[ \n",
    "  {\n",
    "    \"country\": \"England\",\n",
    "    \"timeline\": {\n",
    "      \"cases\": {\n",
    "        \"6/01/22\": 182072,\n",
    "        \"6/02/22\": 182149\n",
    "      }\n",
    "    }\n",
    "  },\n",
    "  {\n",
    "    \"country\": \"France\",\n",
    "    \"timeline\": {\n",
    "      \"cases\": {\n",
    "        \"6/01/22\": 278793,\n",
    "        \"6/02/22\": 279077\n",
    "      }\n",
    "    }\n",
    "  }\n",
    "]\"\"\"\n"
   ]
  },
  {
   "cell_type": "code",
   "execution_count": 3,
   "id": "aef80bbb-f0a9-421d-9662-2d7a1bc5e5ae",
   "metadata": {},
   "outputs": [
    {
     "data": {
      "text/plain": [
       "'[ \\n  {\\n    \"country\": \"England\",\\n    \"timeline\": {\\n      \"cases\": {\\n        \"6/01/22\": 182072,\\n        \"6/02/22\": 182149\\n      }\\n    }\\n  },\\n  {\\n    \"country\": \"France\",\\n    \"timeline\": {\\n      \"cases\": {\\n        \"6/01/22\": 278793,\\n        \"6/02/22\": 279077\\n      }\\n    }\\n  }\\n]'"
      ]
     },
     "execution_count": 3,
     "metadata": {},
     "output_type": "execute_result"
    }
   ],
   "source": [
    "jstring"
   ]
  },
  {
   "cell_type": "code",
   "execution_count": 4,
   "id": "c65b38ca-0717-4096-b9d3-468ead8a5614",
   "metadata": {},
   "outputs": [],
   "source": [
    "a = json.loads(jstring)"
   ]
  },
  {
   "cell_type": "code",
   "execution_count": 5,
   "id": "e6cd7232-20fb-4c18-9b1f-c988419774d4",
   "metadata": {},
   "outputs": [
    {
     "data": {
      "text/plain": [
       "[{'country': 'England',\n",
       "  'timeline': {'cases': {'6/01/22': 182072, '6/02/22': 182149}}},\n",
       " {'country': 'France',\n",
       "  'timeline': {'cases': {'6/01/22': 278793, '6/02/22': 279077}}}]"
      ]
     },
     "execution_count": 5,
     "metadata": {},
     "output_type": "execute_result"
    }
   ],
   "source": [
    "a"
   ]
  },
  {
   "cell_type": "code",
   "execution_count": 6,
   "id": "66d9eed4-f8bc-46c8-8a33-96a05ba28f8a",
   "metadata": {},
   "outputs": [
    {
     "data": {
      "text/plain": [
       "list"
      ]
     },
     "execution_count": 6,
     "metadata": {},
     "output_type": "execute_result"
    }
   ],
   "source": [
    "type(a)"
   ]
  },
  {
   "cell_type": "code",
   "execution_count": 7,
   "id": "ee6a6ae1-c353-4116-91d8-63fa8d860279",
   "metadata": {},
   "outputs": [
    {
     "data": {
      "text/plain": [
       "dict_keys(['country', 'timeline'])"
      ]
     },
     "execution_count": 7,
     "metadata": {},
     "output_type": "execute_result"
    }
   ],
   "source": [
    "a[0].keys()"
   ]
  },
  {
   "cell_type": "code",
   "execution_count": 8,
   "id": "6d77e006-f156-4c4c-9a9e-696205909ac6",
   "metadata": {},
   "outputs": [
    {
     "data": {
      "text/plain": [
       "{'country': 'England',\n",
       " 'timeline': {'cases': {'6/01/22': 182072, '6/02/22': 182149}}}"
      ]
     },
     "execution_count": 8,
     "metadata": {},
     "output_type": "execute_result"
    }
   ],
   "source": [
    "a[0]"
   ]
  },
  {
   "cell_type": "code",
   "execution_count": 9,
   "id": "2de08931-0a4e-40f0-abd4-3ce5dc8860da",
   "metadata": {},
   "outputs": [],
   "source": [
    "b = []"
   ]
  },
  {
   "cell_type": "code",
   "execution_count": 10,
   "id": "0001c7ae-280e-4c59-b030-1d3554b0138e",
   "metadata": {},
   "outputs": [],
   "source": [
    "for i in a:\n",
    "    b.extend(i['timeline']['cases'].keys())"
   ]
  },
  {
   "cell_type": "code",
   "execution_count": 11,
   "id": "ae11022e-d561-4492-883e-33f2a8d56a11",
   "metadata": {},
   "outputs": [],
   "source": [
    "b = list(set(b))"
   ]
  },
  {
   "cell_type": "code",
   "execution_count": 43,
   "id": "f12a0969-cc89-4cf9-9bf4-83d201fca9aa",
   "metadata": {},
   "outputs": [],
   "source": [
    "res = dict.fromkeys(b)"
   ]
  },
  {
   "cell_type": "code",
   "execution_count": 48,
   "id": "4d0e727d-73f2-41ab-84c0-07c800f6990e",
   "metadata": {},
   "outputs": [],
   "source": [
    "import copy\n",
    "res = dict.fromkeys(b)\n",
    "aa = copy.deepcopy(a)\n",
    "for j in res.keys():\n",
    "    res[j] = []\n",
    "    for cnt, i in enumerate(aa):\n",
    "        cond = j in aa[cnt]['timeline']['cases'].keys()\n",
    "        if cond:\n",
    "            c = dict({'country':i['country'],'cases':int(i['timeline']['cases'][j])})\n",
    "            res[j].append(c)\n",
    "            del aa[cnt]['timeline']['cases'][j]\n",
    "        else:\n",
    "            continue"
   ]
  },
  {
   "cell_type": "code",
   "execution_count": 49,
   "id": "0a23ff88-01a0-4b67-8897-ab4f2345b277",
   "metadata": {},
   "outputs": [
    {
     "data": {
      "text/plain": [
       "{'6/01/22': [{'country': 'England', 'cases': 182072},\n",
       "  {'country': 'France', 'cases': 278793}],\n",
       " '6/02/22': [{'country': 'England', 'cases': 182149},\n",
       "  {'country': 'France', 'cases': 279077}]}"
      ]
     },
     "execution_count": 49,
     "metadata": {},
     "output_type": "execute_result"
    }
   ],
   "source": [
    "res"
   ]
  },
  {
   "cell_type": "code",
   "execution_count": null,
   "id": "266d0a21-adcd-482d-9533-17d38bb31dbb",
   "metadata": {},
   "outputs": [],
   "source": []
  }
 ],
 "metadata": {
  "kernelspec": {
   "display_name": "Python 3 (ipykernel)",
   "language": "python",
   "name": "python3"
  },
  "language_info": {
   "codemirror_mode": {
    "name": "ipython",
    "version": 3
   },
   "file_extension": ".py",
   "mimetype": "text/x-python",
   "name": "python",
   "nbconvert_exporter": "python",
   "pygments_lexer": "ipython3",
   "version": "3.9.7"
  }
 },
 "nbformat": 4,
 "nbformat_minor": 5
}
