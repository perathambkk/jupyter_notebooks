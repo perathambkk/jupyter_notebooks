{
 "cells": [
  {
   "cell_type": "code",
   "execution_count": 1,
   "id": "89770703-55db-4085-8b9f-4ce05f1f5f2f",
   "metadata": {},
   "outputs": [],
   "source": [
    "import json"
   ]
  },
  {
   "cell_type": "code",
   "execution_count": 2,
   "id": "620406e2-eb19-4ad5-90cd-94325147fcf0",
   "metadata": {},
   "outputs": [],
   "source": [
    "jstring  = \"\"\"[ \n",
    "  {\n",
    "    \"country\": \"England\",\n",
    "    \"timeline\": {\n",
    "      \"cases\": {\n",
    "        \"6/01/22\": 182072,\n",
    "        \"6/02/22\": 182149\n",
    "      }\n",
    "    }\n",
    "  },\n",
    "  {\n",
    "    \"country\": \"France\",\n",
    "    \"timeline\": {\n",
    "      \"cases\": {\n",
    "        \"6/01/22\": 278793,\n",
    "        \"6/02/22\": 279077\n",
    "      }\n",
    "    }\n",
    "  }\n",
    "]\"\"\"\n"
   ]
  },
  {
   "cell_type": "code",
   "execution_count": 3,
   "id": "aef80bbb-f0a9-421d-9662-2d7a1bc5e5ae",
   "metadata": {},
   "outputs": [
    {
     "data": {
      "text/plain": [
       "'[ \\n  {\\n    \"country\": \"England\",\\n    \"timeline\": {\\n      \"cases\": {\\n        \"6/01/22\": 182072,\\n        \"6/02/22\": 182149\\n      }\\n    }\\n  },\\n  {\\n    \"country\": \"France\",\\n    \"timeline\": {\\n      \"cases\": {\\n        \"6/01/22\": 278793,\\n        \"6/02/22\": 279077\\n      }\\n    }\\n  }\\n]'"
      ]
     },
     "execution_count": 3,
     "metadata": {},
     "output_type": "execute_result"
    }
   ],
   "source": [
    "jstring"
   ]
  },
  {
   "cell_type": "code",
   "execution_count": 4,
   "id": "c65b38ca-0717-4096-b9d3-468ead8a5614",
   "metadata": {},
   "outputs": [],
   "source": [
    "a = json.loads(jstring)"
   ]
  },
  {
   "cell_type": "code",
   "execution_count": 5,
   "id": "e6cd7232-20fb-4c18-9b1f-c988419774d4",
   "metadata": {},
   "outputs": [
    {
     "data": {
      "text/plain": [
       "[{'country': 'England',\n",
       "  'timeline': {'cases': {'6/01/22': 182072, '6/02/22': 182149}}},\n",
       " {'country': 'France',\n",
       "  'timeline': {'cases': {'6/01/22': 278793, '6/02/22': 279077}}}]"
      ]
     },
     "execution_count": 5,
     "metadata": {},
     "output_type": "execute_result"
    }
   ],
   "source": [
    "a"
   ]
  },
  {
   "cell_type": "code",
   "execution_count": 6,
   "id": "66d9eed4-f8bc-46c8-8a33-96a05ba28f8a",
   "metadata": {},
   "outputs": [
    {
     "data": {
      "text/plain": [
       "list"
      ]
     },
     "execution_count": 6,
     "metadata": {},
     "output_type": "execute_result"
    }
   ],
   "source": [
    "type(a)"
   ]
  },
  {
   "cell_type": "code",
   "execution_count": 7,
   "id": "ee6a6ae1-c353-4116-91d8-63fa8d860279",
   "metadata": {},
   "outputs": [
    {
     "data": {
      "text/plain": [
       "dict_keys(['country', 'timeline'])"
      ]
     },
     "execution_count": 7,
     "metadata": {},
     "output_type": "execute_result"
    }
   ],
   "source": [
    "a[0].keys()"
   ]
  },
  {
   "cell_type": "code",
   "execution_count": 8,
   "id": "6d77e006-f156-4c4c-9a9e-696205909ac6",
   "metadata": {},
   "outputs": [
    {
     "data": {
      "text/plain": [
       "{'country': 'England',\n",
       " 'timeline': {'cases': {'6/01/22': 182072, '6/02/22': 182149}}}"
      ]
     },
     "execution_count": 8,
     "metadata": {},
     "output_type": "execute_result"
    }
   ],
   "source": [
    "a[0]"
   ]
  },
  {
   "cell_type": "code",
   "execution_count": 9,
   "id": "2de08931-0a4e-40f0-abd4-3ce5dc8860da",
   "metadata": {},
   "outputs": [],
   "source": [
    "b = []"
   ]
  },
  {
   "cell_type": "code",
   "execution_count": 10,
   "id": "0001c7ae-280e-4c59-b030-1d3554b0138e",
   "metadata": {},
   "outputs": [],
   "source": [
    "for i in a:\n",
    "    b.extend(i['timeline']['cases'].keys())"
   ]
  },
  {
   "cell_type": "code",
   "execution_count": 11,
   "id": "ae11022e-d561-4492-883e-33f2a8d56a11",
   "metadata": {},
   "outputs": [],
   "source": [
    "b = list(set(b))"
   ]
  },
  {
   "cell_type": "code",
   "execution_count": 12,
   "id": "f12a0969-cc89-4cf9-9bf4-83d201fca9aa",
   "metadata": {},
   "outputs": [],
   "source": [
    "res = dict.fromkeys(b)"
   ]
  },
  {
   "cell_type": "code",
   "execution_count": 13,
   "id": "4d0e727d-73f2-41ab-84c0-07c800f6990e",
   "metadata": {},
   "outputs": [],
   "source": [
    "import copy\n",
    "res = dict.fromkeys(b)\n",
    "aa = copy.deepcopy(a)\n",
    "for j in res.keys():\n",
    "    res[j] = []\n",
    "    for cnt, i in enumerate(aa):\n",
    "        cond = j in aa[cnt]['timeline']['cases'].keys()\n",
    "        if cond:\n",
    "            c = dict({'country':i['country'],'cases':int(i['timeline']['cases'][j])})\n",
    "            res[j].append(c)\n",
    "            del aa[cnt]['timeline']['cases'][j]\n",
    "        else:\n",
    "            continue"
   ]
  },
  {
   "cell_type": "code",
   "execution_count": 14,
   "id": "0a23ff88-01a0-4b67-8897-ab4f2345b277",
   "metadata": {},
   "outputs": [
    {
     "data": {
      "text/plain": [
       "{'6/01/22': [{'country': 'England', 'cases': 182072},\n",
       "  {'country': 'France', 'cases': 278793}],\n",
       " '6/02/22': [{'country': 'England', 'cases': 182149},\n",
       "  {'country': 'France', 'cases': 279077}]}"
      ]
     },
     "execution_count": 14,
     "metadata": {},
     "output_type": "execute_result"
    }
   ],
   "source": [
    "res"
   ]
  },
  {
   "cell_type": "code",
   "execution_count": 17,
   "id": "266d0a21-adcd-482d-9533-17d38bb31dbb",
   "metadata": {},
   "outputs": [],
   "source": [
    "import pandas as pd"
   ]
  },
  {
   "cell_type": "code",
   "execution_count": 19,
   "id": "62a9f529-f531-43ad-87bd-1f1d6081580e",
   "metadata": {},
   "outputs": [],
   "source": [
    "df = pd.read_json(jstring)"
   ]
  },
  {
   "cell_type": "code",
   "execution_count": 20,
   "id": "2f5201e3-12e0-49a4-a0f5-c96c05669df0",
   "metadata": {},
   "outputs": [
    {
     "data": {
      "text/html": [
       "<div>\n",
       "<style scoped>\n",
       "    .dataframe tbody tr th:only-of-type {\n",
       "        vertical-align: middle;\n",
       "    }\n",
       "\n",
       "    .dataframe tbody tr th {\n",
       "        vertical-align: top;\n",
       "    }\n",
       "\n",
       "    .dataframe thead th {\n",
       "        text-align: right;\n",
       "    }\n",
       "</style>\n",
       "<table border=\"1\" class=\"dataframe\">\n",
       "  <thead>\n",
       "    <tr style=\"text-align: right;\">\n",
       "      <th></th>\n",
       "      <th>country</th>\n",
       "      <th>timeline</th>\n",
       "    </tr>\n",
       "  </thead>\n",
       "  <tbody>\n",
       "    <tr>\n",
       "      <th>0</th>\n",
       "      <td>England</td>\n",
       "      <td>{'cases': {'6/01/22': 182072, '6/02/22': 182149}}</td>\n",
       "    </tr>\n",
       "    <tr>\n",
       "      <th>1</th>\n",
       "      <td>France</td>\n",
       "      <td>{'cases': {'6/01/22': 278793, '6/02/22': 279077}}</td>\n",
       "    </tr>\n",
       "  </tbody>\n",
       "</table>\n",
       "</div>"
      ],
      "text/plain": [
       "   country                                           timeline\n",
       "0  England  {'cases': {'6/01/22': 182072, '6/02/22': 182149}}\n",
       "1   France  {'cases': {'6/01/22': 278793, '6/02/22': 279077}}"
      ]
     },
     "execution_count": 20,
     "metadata": {},
     "output_type": "execute_result"
    }
   ],
   "source": [
    "df"
   ]
  },
  {
   "cell_type": "code",
   "execution_count": 27,
   "id": "78f7b927-2c02-4fdf-bfdf-88dbcf305ec7",
   "metadata": {},
   "outputs": [],
   "source": [
    "b = []\n",
    "for i in df['timeline']:\n",
    "    b.extend(i['cases'].keys())"
   ]
  },
  {
   "cell_type": "code",
   "execution_count": 29,
   "id": "0e4aef97-a658-4255-8b06-00ed30f126ed",
   "metadata": {},
   "outputs": [],
   "source": [
    "b = list(set(b))"
   ]
  },
  {
   "cell_type": "code",
   "execution_count": 70,
   "id": "d57d69ab-c2e7-4a5d-90f7-107a08eb635e",
   "metadata": {},
   "outputs": [],
   "source": [
    "res_df = pd.DataFrame(columns=['date', 'country_cases'])"
   ]
  },
  {
   "cell_type": "code",
   "execution_count": 71,
   "id": "4d33de5a-3c32-4674-bb44-6fbaf5dc42ce",
   "metadata": {},
   "outputs": [
    {
     "data": {
      "text/html": [
       "<div>\n",
       "<style scoped>\n",
       "    .dataframe tbody tr th:only-of-type {\n",
       "        vertical-align: middle;\n",
       "    }\n",
       "\n",
       "    .dataframe tbody tr th {\n",
       "        vertical-align: top;\n",
       "    }\n",
       "\n",
       "    .dataframe thead th {\n",
       "        text-align: right;\n",
       "    }\n",
       "</style>\n",
       "<table border=\"1\" class=\"dataframe\">\n",
       "  <thead>\n",
       "    <tr style=\"text-align: right;\">\n",
       "      <th></th>\n",
       "      <th>date</th>\n",
       "      <th>country_cases</th>\n",
       "    </tr>\n",
       "  </thead>\n",
       "  <tbody>\n",
       "  </tbody>\n",
       "</table>\n",
       "</div>"
      ],
      "text/plain": [
       "Empty DataFrame\n",
       "Columns: [date, country_cases]\n",
       "Index: []"
      ]
     },
     "execution_count": 71,
     "metadata": {},
     "output_type": "execute_result"
    }
   ],
   "source": [
    "res_df"
   ]
  },
  {
   "cell_type": "code",
   "execution_count": 72,
   "id": "efa00aed-6110-4fc2-8254-5394f13c0f79",
   "metadata": {},
   "outputs": [
    {
     "name": "stderr",
     "output_type": "stream",
     "text": [
      "/tmp/ipykernel_240347/1647374214.py:7: FutureWarning: The frame.append method is deprecated and will be removed from pandas in a future version. Use pandas.concat instead.\n",
      "  res_df = res_df.append(c,ignore_index=True)\n",
      "/tmp/ipykernel_240347/1647374214.py:7: FutureWarning: The frame.append method is deprecated and will be removed from pandas in a future version. Use pandas.concat instead.\n",
      "  res_df = res_df.append(c,ignore_index=True)\n"
     ]
    }
   ],
   "source": [
    "for j in b:\n",
    "    entries = []\n",
    "    for i, row in df.iterrows():\n",
    "        d = {row['country']:row['timeline']['cases'][j]}\n",
    "        entries.append(d)\n",
    "    c = {'date':j,'country_cases':entries}\n",
    "    res_df = res_df.append(c,ignore_index=True)"
   ]
  },
  {
   "cell_type": "code",
   "execution_count": 73,
   "id": "aba17860-9bdb-4e48-a924-d0bb8784fc39",
   "metadata": {},
   "outputs": [
    {
     "data": {
      "text/html": [
       "<div>\n",
       "<style scoped>\n",
       "    .dataframe tbody tr th:only-of-type {\n",
       "        vertical-align: middle;\n",
       "    }\n",
       "\n",
       "    .dataframe tbody tr th {\n",
       "        vertical-align: top;\n",
       "    }\n",
       "\n",
       "    .dataframe thead th {\n",
       "        text-align: right;\n",
       "    }\n",
       "</style>\n",
       "<table border=\"1\" class=\"dataframe\">\n",
       "  <thead>\n",
       "    <tr style=\"text-align: right;\">\n",
       "      <th></th>\n",
       "      <th>date</th>\n",
       "      <th>country_cases</th>\n",
       "    </tr>\n",
       "  </thead>\n",
       "  <tbody>\n",
       "    <tr>\n",
       "      <th>0</th>\n",
       "      <td>6/01/22</td>\n",
       "      <td>[{'England': 182072}, {'France': 278793}]</td>\n",
       "    </tr>\n",
       "    <tr>\n",
       "      <th>1</th>\n",
       "      <td>6/02/22</td>\n",
       "      <td>[{'England': 182149}, {'France': 279077}]</td>\n",
       "    </tr>\n",
       "  </tbody>\n",
       "</table>\n",
       "</div>"
      ],
      "text/plain": [
       "      date                              country_cases\n",
       "0  6/01/22  [{'England': 182072}, {'France': 278793}]\n",
       "1  6/02/22  [{'England': 182149}, {'France': 279077}]"
      ]
     },
     "execution_count": 73,
     "metadata": {},
     "output_type": "execute_result"
    }
   ],
   "source": [
    "res_df"
   ]
  },
  {
   "cell_type": "code",
   "execution_count": 83,
   "id": "c0d5c1c3-74f6-48d1-b377-42237f1be005",
   "metadata": {},
   "outputs": [
    {
     "data": {
      "text/html": [
       "<div>\n",
       "<style scoped>\n",
       "    .dataframe tbody tr th:only-of-type {\n",
       "        vertical-align: middle;\n",
       "    }\n",
       "\n",
       "    .dataframe tbody tr th {\n",
       "        vertical-align: top;\n",
       "    }\n",
       "\n",
       "    .dataframe thead th {\n",
       "        text-align: right;\n",
       "    }\n",
       "</style>\n",
       "<table border=\"1\" class=\"dataframe\">\n",
       "  <thead>\n",
       "    <tr style=\"text-align: right;\">\n",
       "      <th></th>\n",
       "      <th>date</th>\n",
       "      <th>country_cases</th>\n",
       "    </tr>\n",
       "  </thead>\n",
       "  <tbody>\n",
       "    <tr>\n",
       "      <th>0</th>\n",
       "      <td>6/01/22</td>\n",
       "      <td>[{'England': 182072}, {'France': 278793}]</td>\n",
       "    </tr>\n",
       "    <tr>\n",
       "      <th>1</th>\n",
       "      <td>6/02/22</td>\n",
       "      <td>[{'England': 182149}, {'France': 279077}]</td>\n",
       "    </tr>\n",
       "    <tr>\n",
       "      <th>0</th>\n",
       "      <td>6/02/22</td>\n",
       "      <td>[{'England': 182149}, {'France': 279077}]</td>\n",
       "    </tr>\n",
       "  </tbody>\n",
       "</table>\n",
       "</div>"
      ],
      "text/plain": [
       "      date                              country_cases\n",
       "0  6/01/22  [{'England': 182072}, {'France': 278793}]\n",
       "1  6/02/22  [{'England': 182149}, {'France': 279077}]\n",
       "0  6/02/22  [{'England': 182149}, {'France': 279077}]"
      ]
     },
     "execution_count": 83,
     "metadata": {},
     "output_type": "execute_result"
    }
   ],
   "source": [
    "pd.concat([res_df, pd.DataFrame([c])])"
   ]
  },
  {
   "cell_type": "code",
   "execution_count": null,
   "id": "37cfb43c-4ebf-4c70-8ca6-e79f2a61c82d",
   "metadata": {},
   "outputs": [],
   "source": []
  }
 ],
 "metadata": {
  "kernelspec": {
   "display_name": "Python 3 (ipykernel)",
   "language": "python",
   "name": "python3"
  },
  "language_info": {
   "codemirror_mode": {
    "name": "ipython",
    "version": 3
   },
   "file_extension": ".py",
   "mimetype": "text/x-python",
   "name": "python",
   "nbconvert_exporter": "python",
   "pygments_lexer": "ipython3",
   "version": "3.9.7"
  }
 },
 "nbformat": 4,
 "nbformat_minor": 5
}
